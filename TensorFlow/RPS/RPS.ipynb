{
 "cells": [
  {
   "cell_type": "markdown",
   "id": "bc037dd2-719f-422a-8796-dcae408f680f",
   "metadata": {},
   "source": [
    "# Rock Paper Scissors AI\n",
    "This is the code for the code challenge **\"Rock Paper Scissors\"** for the FreeCodeCamp Machine Learning with Python ceritifcation."
   ]
  },
  {
   "cell_type": "code",
   "execution_count": 1,
   "id": "6e395213-4cc0-4eeb-9a6b-352d5f746b57",
   "metadata": {},
   "outputs": [],
   "source": [
    "import random\n",
    "from collections import Counter"
   ]
  },
  {
   "cell_type": "markdown",
   "id": "f5c37c28-3127-4ce2-bd58-11beecde82ff",
   "metadata": {},
   "source": [
    "## RPS_game.py"
   ]
  },
  {
   "cell_type": "code",
   "execution_count": 2,
   "id": "98e98077-15dc-4fed-a294-d29633ff903d",
   "metadata": {},
   "outputs": [],
   "source": [
    "def play(player1, player2, num_games, verbose=False):\n",
    "    p1_prev_play = \"\"\n",
    "    p2_prev_play = \"\"\n",
    "    results = {\"p1\": 0, \"p2\": 0, \"tie\": 0}\n",
    "\n",
    "    for _ in range(num_games):\n",
    "        p1_play = player1(p2_prev_play)\n",
    "        p2_play = player2(p1_prev_play)\n",
    "\n",
    "        if p1_play == p2_play:\n",
    "            results[\"tie\"] += 1\n",
    "            winner = \"Tie.\"\n",
    "        elif (\n",
    "            (p1_play == \"P\" and p2_play == \"R\")\n",
    "            or (p1_play == \"R\" and p2_play == \"S\")\n",
    "            or (p1_play == \"S\" and p2_play == \"P\")\n",
    "        ):\n",
    "            results[\"p1\"] += 1\n",
    "            winner = \"Player 1 wins.\"\n",
    "        elif (\n",
    "            p2_play == \"P\"\n",
    "            and p1_play == \"R\"\n",
    "            or p2_play == \"R\"\n",
    "            and p1_play == \"S\"\n",
    "            or p2_play == \"S\"\n",
    "            and p1_play == \"P\"\n",
    "        ):\n",
    "            results[\"p2\"] += 1\n",
    "            winner = \"Player 2 wins.\"\n",
    "\n",
    "        if verbose:\n",
    "            print(\"Player 1:\", p1_play, \"| Player 2:\", p2_play)\n",
    "            print(winner)\n",
    "            print()\n",
    "\n",
    "        p1_prev_play = p1_play\n",
    "        p2_prev_play = p2_play\n",
    "\n",
    "    games_won = results[\"p2\"] + results[\"p1\"]\n",
    "\n",
    "    if games_won == 0:\n",
    "        win_rate = 0\n",
    "    else:\n",
    "        win_rate = results[\"p1\"] / games_won * 100\n",
    "\n",
    "    print(\"Final results:\", results)\n",
    "    print(f\"Player 1 win rate: {win_rate}%\")\n",
    "\n",
    "    return win_rate"
   ]
  },
  {
   "cell_type": "markdown",
   "id": "3c3dae2b-60e8-4691-af6b-63403cba8c59",
   "metadata": {},
   "source": [
    "First opponent: **quincy**\n",
    "Quincy is easy, since he basically uses the same combination all the times, so basically use the opposed sequence to win."
   ]
  },
  {
   "cell_type": "code",
   "execution_count": 3,
   "id": "675c67b0-112a-4ec2-a238-993acfb270a7",
   "metadata": {},
   "outputs": [],
   "source": [
    "def quincy(prev_play, counter=[0]):\n",
    "    counter[0] += 1\n",
    "    choices = [\"R\", \"R\", \"P\", \"P\", \"S\"]\n",
    "    return choices[counter[0] % len(choices)]"
   ]
  },
  {
   "cell_type": "markdown",
   "id": "826d43a2-c0d2-4703-b6e7-95413708b5d3",
   "metadata": {},
   "source": [
    "Second opponent: **mrugesh**\n",
    "MRugesh takes a different approach... He reads the last 10 plays and throws the opposite of the most played hand."
   ]
  },
  {
   "cell_type": "code",
   "execution_count": 4,
   "id": "261eb9a8-cede-44e9-9341-419a9c1ce9d7",
   "metadata": {},
   "outputs": [],
   "source": [
    "def mrugesh(prev_opponent_play, opponent_history=[]):\n",
    "    opponent_history.append(prev_opponent_play)\n",
    "    last_ten = opponent_history[-10:]\n",
    "    most_frequent = max(set(last_ten), key=last_ten.count)\n",
    "\n",
    "    if most_frequent == \"\":\n",
    "        most_frequent = \"S\"\n",
    "\n",
    "    ideal_response = {\"P\": \"S\", \"R\": \"P\", \"S\": \"R\"}\n",
    "    return ideal_response[most_frequent]"
   ]
  },
  {
   "cell_type": "markdown",
   "id": "7f617ed6-bb2e-4e44-b7dc-f3078213b128",
   "metadata": {},
   "source": [
    "Third opponent: **kris**\n",
    "This is another easy one. He checks your last hand and will play the opposite. Just keep cycling your hand. If you previously played \"Rock\", play \"Scissorr\" next."
   ]
  },
  {
   "cell_type": "code",
   "execution_count": 5,
   "id": "bf8cba3b-57d9-4870-b46b-08737234af49",
   "metadata": {},
   "outputs": [],
   "source": [
    "def kris(prev_opponent_play):\n",
    "    if prev_opponent_play == \"\":\n",
    "        prev_opponent_play = \"R\"\n",
    "    ideal_response = {\"P\": \"S\", \"R\": \"P\", \"S\": \"R\"}\n",
    "    return ideal_response[prev_opponent_play]"
   ]
  },
  {
   "cell_type": "markdown",
   "id": "8c0fc479-7e5e-4518-b187-a03fc877ff7b",
   "metadata": {},
   "source": [
    "Last opponent: **Abbey**\n",
    "Here's were the problem gets harder... Abbey will read your last two hands and will try to forecast your next action. In order to deafet her, we need to take the same approach, but considering more plays than 2."
   ]
  },
  {
   "cell_type": "code",
   "execution_count": 6,
   "id": "c5c16db9-3e26-45e6-af9b-a64d7793575c",
   "metadata": {},
   "outputs": [],
   "source": [
    "def abbey(\n",
    "    prev_opponent_play,\n",
    "    opponent_history=[],\n",
    "    play_order=[\n",
    "        {\n",
    "            \"RR\": 0,\n",
    "            \"RP\": 0,\n",
    "            \"RS\": 0,\n",
    "            \"PR\": 0,\n",
    "            \"PP\": 0,\n",
    "            \"PS\": 0,\n",
    "            \"SR\": 0,\n",
    "            \"SP\": 0,\n",
    "            \"SS\": 0,\n",
    "        }\n",
    "    ],\n",
    "):\n",
    "    if not prev_opponent_play:\n",
    "        prev_opponent_play = \"R\"\n",
    "    opponent_history.append(prev_opponent_play)\n",
    "\n",
    "    last_two = \"\".join(opponent_history[-2:])\n",
    "    if len(last_two) == 2:\n",
    "        play_order[0][last_two] += 1\n",
    "\n",
    "    potential_plays = [\n",
    "        prev_opponent_play + \"R\",\n",
    "        prev_opponent_play + \"P\",\n",
    "        prev_opponent_play + \"S\",\n",
    "    ]\n",
    "\n",
    "    sub_order = {\n",
    "        k: play_order[0][k] for k in potential_plays if k in play_order[0]\n",
    "    }\n",
    "    prediction = max(sub_order, key=sub_order.get)[-1:]\n",
    "\n",
    "    ideal_response = {\"P\": \"S\", \"R\": \"P\", \"S\": \"R\"}\n",
    "    return ideal_response[prediction]"
   ]
  },
  {
   "cell_type": "markdown",
   "id": "9442765b-b790-4c0c-94c6-5f989b6d0067",
   "metadata": {},
   "source": [
    "The function to play agains a human."
   ]
  },
  {
   "cell_type": "code",
   "execution_count": 7,
   "id": "b938f74d-7a73-448e-9fcb-45db9f860b5e",
   "metadata": {},
   "outputs": [],
   "source": [
    "def human(prev_opponent_play):\n",
    "    play = \"\"\n",
    "    while play not in [\"R\", \"P\", \"S\"]:\n",
    "        play = input(\"[R]ock, [P]aper, [S]cissors? \")\n",
    "        print(play)\n",
    "    return play"
   ]
  },
  {
   "cell_type": "markdown",
   "id": "f45e604f-4f96-4255-9ed9-4b97d9d53f23",
   "metadata": {},
   "source": [
    "This is a funtion to play randomly, but we don't achieve the 60% of winning rate as expected..."
   ]
  },
  {
   "cell_type": "code",
   "execution_count": 8,
   "id": "17bf1cc2-9e6d-45b2-abc9-f94ec691fa71",
   "metadata": {},
   "outputs": [],
   "source": [
    "def random_player(prev_opponent_play):\n",
    "    return random.choice([\"R\", \"P\", \"S\"])"
   ]
  },
  {
   "cell_type": "markdown",
   "id": "93a6426d-95ea-4406-b14c-54c867def7d9",
   "metadata": {},
   "source": [
    "## Solution"
   ]
  },
  {
   "cell_type": "code",
   "execution_count": 9,
   "id": "a9d891ef-0cde-487b-b931-71c2c8348b48",
   "metadata": {},
   "outputs": [],
   "source": [
    "# Here we keep track of previous plays\n",
    "steps = {}\n",
    "\n",
    "def player(prev_play, opponent_history=[]):\n",
    "    if prev_play != \"\":\n",
    "        opponent_history.append(prev_play)\n",
    "    # Like previously stated, basiclly we'll follow the same strategy as Abbey, where \"n\" is how far we'll look.\n",
    "    # If we go too far, it may not be too effective,.\n",
    "    n = 5\n",
    "\n",
    "    guess = \"R\"\n",
    "    if len(opponent_history) > n:\n",
    "        pattern = \"\".join(opponent_history[-n:])\n",
    "\n",
    "        if \"\".join(opponent_history[-(n + 1):]) in steps.keys():\n",
    "            steps[\"\".join(opponent_history[-(n + 1):])] += 1\n",
    "        else:\n",
    "            steps[\"\".join(opponent_history[-(n + 1):])] = 1\n",
    "\n",
    "        possible = [pattern + \"R\", pattern + \"P\", pattern + \"S\"]\n",
    "\n",
    "        for i in possible:\n",
    "            if not i in steps.keys():\n",
    "                steps[i] = 0\n",
    "\n",
    "        predict = max(possible, key=lambda key: steps[key])\n",
    "\n",
    "        if predict[-1] == \"P\":\n",
    "            guess = \"S\"\n",
    "        if predict[-1] == \"R\":\n",
    "            guess = \"P\"\n",
    "        if predict[-1] == \"S\":\n",
    "            guess = \"R\"\n",
    "\n",
    "    return guess"
   ]
  },
  {
   "cell_type": "markdown",
   "id": "23465807-7fe6-41b5-86e7-297fe79a7582",
   "metadata": {},
   "source": [
    "### Now, let's train our AI witth 1000 plays for each player"
   ]
  },
  {
   "cell_type": "code",
   "execution_count": 10,
   "id": "bf7fc557-c70e-4d4e-9c25-a5492d50efe5",
   "metadata": {},
   "outputs": [
    {
     "name": "stdout",
     "output_type": "stream",
     "text": [
      "Training against Quincy:\n",
      "Final results: {'p1': 992, 'p2': 3, 'tie': 5}\n",
      "Player 1 win rate: 99.69849246231156%\n",
      "Training against MRugesh:\n",
      "Final results: {'p1': 828, 'p2': 165, 'tie': 7}\n",
      "Player 1 win rate: 83.38368580060424%\n",
      "Training against Abbey:\n",
      "Final results: {'p1': 447, 'p2': 305, 'tie': 248}\n",
      "Player 1 win rate: 59.441489361702125%\n",
      "Training against Kris:\n",
      "Final results: {'p1': 754, 'p2': 120, 'tie': 126}\n",
      "Player 1 win rate: 86.2700228832952%\n"
     ]
    },
    {
     "data": {
      "text/plain": [
       "86.2700228832952"
      ]
     },
     "execution_count": 10,
     "metadata": {},
     "output_type": "execute_result"
    }
   ],
   "source": [
    "print(\"Training against Quincy:\")\n",
    "play(player, quincy, 1000)\n",
    "print (\"Training against MRugesh:\")\n",
    "play(player, mrugesh, 1000)\n",
    "print(\"Training against Abbey:\")\n",
    "play(player, abbey, 1000)\n",
    "print(\"Training against Kris:\")\n",
    "play(player, kris, 1000)"
   ]
  },
  {
   "cell_type": "markdown",
   "id": "3f724295-ecda-4490-8241-03a6b649d25b",
   "metadata": {},
   "source": [
    "## Test sequence"
   ]
  },
  {
   "cell_type": "code",
   "execution_count": 11,
   "id": "1c5558ee-a2e0-4958-8c55-f837d9f29f4a",
   "metadata": {},
   "outputs": [
    {
     "name": "stderr",
     "output_type": "stream",
     "text": [
      "...."
     ]
    },
    {
     "name": "stdout",
     "output_type": "stream",
     "text": [
      "\n",
      "Testing game against abbey...\n",
      "Final results: {'p1': 521, 'p2': 273, 'tie': 206}\n",
      "Player 1 win rate: 65.61712846347606%\n",
      "Testing game against kris...\n",
      "Final results: {'p1': 999, 'p2': 1, 'tie': 0}\n",
      "Player 1 win rate: 99.9%\n",
      "Testing game against mrugesh...\n",
      "Final results: {'p1': 840, 'p2': 158, 'tie': 2}\n",
      "Player 1 win rate: 84.16833667334669%\n",
      "Testing game against quincy...\n",
      "Final results: {'p1': 998, 'p2': 1, 'tie': 1}\n",
      "Player 1 win rate: 99.8998998998999%\n"
     ]
    },
    {
     "name": "stderr",
     "output_type": "stream",
     "text": [
      "\n",
      "----------------------------------------------------------------------\n",
      "Ran 4 tests in 0.018s\n",
      "\n",
      "OK\n"
     ]
    }
   ],
   "source": [
    "import unittest\n",
    "\n",
    "class UnitTests(unittest.TestCase):\n",
    "    print()\n",
    "\n",
    "    def test_player_vs_quincy(self):\n",
    "        print(\"Testing game against quincy...\")\n",
    "        actual = play(player, quincy, 1000) >= 60\n",
    "        self.assertTrue(\n",
    "            actual,\n",
    "            'Expected player to defeat quincy at least 60% of the time.')\n",
    "\n",
    "    def test_player_vs_abbey(self):\n",
    "        print(\"Testing game against abbey...\")\n",
    "        actual = play(player, abbey, 1000) >= 60\n",
    "        self.assertTrue(\n",
    "            actual,\n",
    "            'Expected player to defeat abbey at least 60% of the time.')\n",
    "\n",
    "    def test_player_vs_kris(self):\n",
    "        print(\"Testing game against kris...\")\n",
    "        actual = play(player, kris, 1000) >= 60\n",
    "        self.assertTrue(\n",
    "            actual, 'Expected player to defeat kris at least 60% of the time.')\n",
    "\n",
    "    def test_player_vs_mrugesh(self):\n",
    "        print(\"Testing game against mrugesh...\")\n",
    "        actual = play(player, mrugesh, 1000) >= 60\n",
    "        self.assertTrue(\n",
    "            actual,\n",
    "            'Expected player to defeat mrugesh at least 60% of the time.')\n",
    "\n",
    "\n",
    "if __name__ == \"__main__\":\n",
    "    unittest.main(argv=[\"first-arg-is-ignored\"], exit=False)"
   ]
  },
  {
   "cell_type": "code",
   "execution_count": null,
   "id": "a9809445-482d-4fd0-ad76-3cee49c62abd",
   "metadata": {},
   "outputs": [],
   "source": []
  }
 ],
 "metadata": {
  "kernelspec": {
   "display_name": "Python 3",
   "language": "python",
   "name": "python3"
  },
  "language_info": {
   "codemirror_mode": {
    "name": "ipython",
    "version": 3
   },
   "file_extension": ".py",
   "mimetype": "text/x-python",
   "name": "python",
   "nbconvert_exporter": "python",
   "pygments_lexer": "ipython3",
   "version": "3.7.10"
  }
 },
 "nbformat": 4,
 "nbformat_minor": 5
}
